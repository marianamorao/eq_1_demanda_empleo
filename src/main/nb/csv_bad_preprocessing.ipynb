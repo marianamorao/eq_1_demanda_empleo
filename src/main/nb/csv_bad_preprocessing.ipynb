{
 "cells": [
  {
   "cell_type": "code",
   "execution_count": 1,
   "id": "f214489d",
   "metadata": {},
   "outputs": [],
   "source": [
    "import pandas as pd"
   ]
  },
  {
   "cell_type": "code",
   "execution_count": 2,
   "id": "ff81cc35",
   "metadata": {},
   "outputs": [],
   "source": [
    "BAD_WORD_LIST = [('ç', 'Á'), ('ƒ', 'É'), ('ê', 'Í'), ('î', 'Ó'), ('SE„ORAS', 'SEÑORAS'), ('DISE„ADOR', 'DISEÑADOR'), ('DISE„ADORES', 'DISEÑADORES'), ('DISE„O', 'DISEÑO'), ('ALCA„IZ', 'ALCAÑIZ'), ('Alca–iz', 'ALCAÑIZ'), ('Tarazona', 'TARAZONA'), ('Sabi–‡nigo', 'SABIÑANIGO'), ('SABI„ANIGO', 'SABIÑANIGO')]"
   ]
  },
  {
   "cell_type": "code",
   "execution_count": 3,
   "id": "2a44f3a0",
   "metadata": {},
   "outputs": [
    {
     "name": "stdout",
     "output_type": "stream",
     "text": [
      "unique_job_list:  ['INSTALADOR ELECTRICISTA EN GENERAL', 'INSTALADOR DE EQUIPOS Y SISTEMAS ELECTRÓNICOS (CON DISCAPACIDAD)', 'INSTALADORES MANTENEDORES', 'INSTALADOR ELECTRICISTA', 'INSTALADOR ELECTRICISTA/LÍNEAS Y REDES TELECOMUNICACIÓN', 'ELECTRICISTA', 'ELECTRICISTA OFICIAL', 'OPERARIOS/AS DE MONTAJE Y ENSAMBLADO CON DISCAPACIDAD', 'INSTALADOR ELÉCTRICO/ELECTRÓNICO DE SEGURIDAD Y ANT', 'ELECTRICISTAS (OFICIAL)', 'OPERARIO DE MONTAJE Y SOLDADOR ESTA„O', 'INSTALADORES DE REFRIGERACIÓN Y CLIMATIZACIÓN', 'INSTALADORES DE RIEGO', 'MONTADORES DE PLACAS SOLARES EN CUBIERTAS Y PARQUES SOLARES', 'PEÓN DE MONTAJE DE PLACAS SOLARES', 'PEÓN/A INSTALACIONES ELÉCTRICAS SECTOR METAL', 'OPERARIO DE RED DE DISTRIBUCIÓN DE AGUA', 'HIGIENISTAS BUCODENTALES', 'ENFERMEROS, GERIATRÍA', 'ENFERMEROS (ATS-DUE)', 'ENFERMEROS', 'GEROCULTORES/AS', 'AUXILIAR DE ENFERMERIA', 'AUXILIAR DE ENFERMERÍA PARA RESIDENCIAS', 'ENFERMEROS/AS', 'HIGIENISTAS BUCODENTALES.', 'FISIOTERAPEUTA ESPECIALZIADA EN SUELO PÉLVICO', 'MEDICOS', 'FISIOTERAPEUTA', 'TECNICOS AUXILIARES DE FARMACIA', 'ENFERMERA/O EN SALUD MENTAL, ESPECIALIDAD EIR', 'ENFERMERA/O PARA RESIDENCIA', 'MÉDICOS', 'ENFERMERAS/OS EN CENTROS RESIDENCIAL (CID)', 'PSIQUIATRAS INFANTILES', 'FISIOTERAPEUTAS', 'PSICÓLOGO SANITARIO', 'AUXILIARES DE ENFERMERÍA Y GERIATRÍA', 'PSICÓLOGOS CON PIR.', 'TÉCNICO EN FARMACIA', 'FARMACÉUTICO/A', 'ENFERMERA/O EN CENTRO RESIDENCIAL', 'ENFERMEROS/AS ESPECIALISTAS EN SALUD MENTAL', 'PSICÓLOGOS CLÍNICOS CON PIR U HOMOLOGACIÓN', 'AUXILIAR DE VETERINARIA DEPENDIENTA DE TIENDA DE ANIMALES Y VETERINARIA', 'AUXILIARES DE ENFERMERÍA GERIATRÍA', 'GOBERNANTA RESIDENCIA', 'AUXILIAR ENFERMERÍA', 'AGENTES DE SEGUROS (PARA FORMARSE O CON EXPERIENCIA)', 'AGENTES DE SEGUROS']\n",
      "unique_office_list:  ['ZARAGOZA-COMPROMISO DE CASPE', 'ZARAGOZA-RANILLAS', 'ALCAÑIZ', 'BINEFAR', 'ZARAGOZA-CENTRO', 'ZARAGOZA-SANTANDER', 'HUESCA', 'TARAZONA', 'TERUEL', 'CALATAYUD', 'MONZÓN', 'ZARAGORA-CENTRO', 'BARBASTRO', 'JACA']\n",
      "unique_sector_list:  ['MONTAJE E INSTALACIÓN', 'PRODUCCIÓN, TRANSFORMACIÓN Y DISTRIBUCIÓN DE ENERGÍA Y', 'SANIDAD', 'SEGUROS Y FINANZAS']\n"
     ]
    },
    {
     "data": {
      "text/plain": [
       "(58, 14)"
      ]
     },
     "metadata": {},
     "output_type": "display_data"
    },
    {
     "name": "stdout",
     "output_type": "stream",
     "text": [
      "unique_job_list:  ['ESTETICISTA', 'LAVACOCHES', 'PERSONAL DE LIMPIEZA CON DISCAPACIDAD', 'ORIENTADORES/AS', 'GEROCULTORES', 'AUXILIARES DE AYUDA A DOMICILIO', 'PERSONAL DE LIMPIEZA', 'AYUDANTE DE BARBERÍA', 'PELUQUERO/A', 'OPERARIOS DE LAVANDERÍA CON DISCAPACIDAD', 'PERSONAL DE LIMPIEZA EN COCINA.(CON CERTIFICADO DE DISCAPACIDAD)', 'OPERARIO MANTENIMIENTO ALCANTARILLADO', 'PERSONAL DE LIMPIEZA-CAMAREROS DE PISOS', 'ESTETICISTAS', 'PSICÓLOGO/A CLÍNICO CON ESPECIALIDAD PIR', 'PEÓN/A RECOGIDA DE RESIDUOS', 'PELUQUERO/A UNISEX', 'TERAPEUTA OCUPACIONAL', 'PELUQUERO/A DE CABALLEROS', 'MONITORES DE PILATES', 'ENCARGADOS DE LAVANDERIA', 'SOCORRISTAS', 'GUÍAS ECUESTRES', 'ENTRENADOR PERSONAL PARA MONITOR PILATES (CON O SIN FORMACIÓN PREVIA EN PILATES)', 'PELUQUEROS UNISEX', 'PELUQUEROS SEÑORAS', 'PERSONAL DE LIMPIEZA (CON DISCAPACIDAD)', 'PERSONAL LIMPIEZA DE FIN DE OBRA Y ENCARGADO DE PERSONAL DE LIMPIEZA', 'LIMPIADOR/A - MANTENEDOR/A DE PISCINAS Y JARDINES', 'MONITORES/AS DE TIEMPO LIBRE', 'TÉCNICOS MEDIOAMBIENTALES', 'LIMPIEZA PARA RESIDENCIA CON DISCAPACIDAD', 'PELUQUEROS/AS-OFICIALES', 'CUIDADORES DE PERSONAS CON DISCAPACIDAD', 'TERAPEUTAS OCUPACIONALES', 'EMPLEADOS DE HOGAR INTERNOS', 'OFICIAL PELUQUERIA UNISEX', 'PELUQUEROS/AS (OFICIALES)', 'ABOGADO/A', 'PLANCHADOR/A DE TINTORERÍA - LAVANDERÍA', 'TRABAJADORES SOCIALES', 'ANIMADORES GERIÁTRICOS', 'ENTRENADOR DEPORTIVO']\n",
      "unique_office_list:  ['ZARAGOZA-CENTRO', 'HUESCA', 'ZARAGOZA-RANILLAS', 'ZARAGOZA-PARQUE DE LA MEMORIA', 'ZARAGOZA-SANTANDER', 'ZARAGOZA-COMPROMISO DE CASPE', 'SABIÑANIGO', 'JACA', 'TERUEL', 'ALCAÑIZ', 'BARBASTRO', 'BINEFAR', 'CALATAYUD']\n",
      "unique_sector_list:  ['SERVICIOS A LA COMUNIDAD Y PERSONALES']\n"
     ]
    },
    {
     "data": {
      "text/plain": [
       "(57, 14)"
      ]
     },
     "metadata": {},
     "output_type": "display_data"
    },
    {
     "name": "stdout",
     "output_type": "stream",
     "text": [
      "unique_job_list:  ['TELEOPERADOR/A', 'DISEÑADOR/A GRÁFICO/A CON INDESIGN', 'DISEÑADORES GRÁFICOS', 'PEÓN LIMPIADOR DE CRISTALES', 'DESARROLLADOR/A BUSINESS INTELLIGENCE', 'ANALISTA PROGRAMADOR/A J2EE', 'CONDUCTORES/VIGILANTES DE NOCHE', 'VIGILANTES DE SEGURIDAD', 'GRADUADO/A SOCIAL', 'TELEOPERADORES', 'CONSULTOR SEO CON DISCAPACIDAD', 'PEÓN/A DE LIMPIEZA DE CRISTALES', 'OFICIAL DE LIMPIEZA', 'TÉCNICOS INFORMÁTICOS.', 'LIMPIADOR/A DE VENTANAS', 'TÉCNICO SEGURIDAD Y SALUD EN EL TRABAJO', 'INGENIERO DE CAMINOS/INGENIERO DE PROYECTOS', 'TÉCNICOS EN SEGURIDAD Y PREVENCIÓN DE RIESGOS LABORALES', 'DELINEANTE O ARQUITECTO TÉCNICO', 'TECNICO DE SISTEMAS', 'INFORMÁTICO', 'CURSOS CON COMPROMISO DE CONTRATACIÓN PROGRAMADOR/A JUNIOR', 'TÉCNICO DE DISEÑO EN 3D', 'PROGRAMADORES CON EXPERIENCIA EN VISUAL BASIC', 'DELINEANTES EN GENERAL', 'DISEÑADOR/A INDUSTRIAL', 'TÉCNICOS EN PREVENCIÓN DE RIESGOS LABORALES.', 'TÉCNICOS DE CALIDAD', 'TÉCNICOS DE PREVENCIÓN DE RIESGOS LABORALES', 'DELINEANTES Y ARQUITECTOS TÉCNICOS', 'PERSONAL TÉCNICO INFORMÁTICO', 'INFORMÁTICOS', 'TÉCNICOS EN SEGURIDAD Y SALUD EN EL TRABAJO, EN GENERAL.', 'AUXILIAR ADMINISTRATIVO/A', 'TÉCNICO EN PREVENCIÓN DE RIESGOS LABORALES / TÉCNICO EN SEGURIDAD Y SALUD EN EL TRABAJO']\n",
      "unique_office_list:  ['ZARAGOZA-CENTRO', 'ZARAGOZA-RANILLAS', 'SABIÑANIGO', 'HUESCA', 'TERUEL', 'CALATAYUD', 'ZARAGOZA-COMPROMISO DE CASPE', 'BARBASTRO', 'EJEA DE LOS CABALLEROS', 'MONZÓN', 'BINEFAR', 'ANDORRA', 'FRAGA', 'CALAMOCHA']\n",
      "unique_sector_list:  ['SERVICIOS A LAS EMPRESAS']\n"
     ]
    },
    {
     "data": {
      "text/plain": [
       "(40, 14)"
      ]
     },
     "metadata": {},
     "output_type": "display_data"
    }
   ],
   "source": [
    "folder_path = '/data/mcrodriguez/SaturdaysAI_ZGZ/eq_1_demanda_empleo/src/main/nb/'\n",
    "\n",
    "file_name_list = ['ofertas_S17S20_4.2_bad.csv', 'ofertas_S21_4.2_bad.csv', 'ofertas_S22_4.2_bad.csv']\n",
    "\n",
    "for file_name in file_name_list:\n",
    "    df_data  = pd.read_csv(folder_path+file_name, sep=';', encoding='cp1252', header=None, skiprows=[0])  \n",
    "    df_data.rename({0:'sector',1:'id_job',2:'date',3:'job',4:'city',5:'province',6:'office',7:'content',8:'description',9:'task',10:'requirement',11:'english_level',12:'condition',13:'number'}, axis=1, inplace=True)\n",
    "\n",
    "    for BAD_WORD in BAD_WORD_LIST: \n",
    "        df_data['job']=df_data['job'].astype(str).str.replace(BAD_WORD[0], BAD_WORD[1])\n",
    "        df_data['office']=df_data['office'].astype(str).str.replace(BAD_WORD[0], BAD_WORD[1])  \n",
    "        df_data['sector']=df_data['sector'].astype(str).str.replace(BAD_WORD[0], BAD_WORD[1]) \n",
    "    unique_job_list = df_data['job'].unique().tolist()\n",
    "    unique_office_list = df_data['office'].unique().tolist()\n",
    "    unique_sector_list = df_data['sector'].unique().tolist()\n",
    "    print('unique_job_list: ', unique_job_list)\n",
    "    print('unique_office_list: ', unique_office_list)\n",
    "    print('unique_sector_list: ', unique_sector_list)\n",
    "       \n",
    "    new_file_name = file_name.replace('_bad', '')\n",
    "    df_data.to_csv(folder_path+new_file_name, index=False, encoding='utf-8')\n",
    "\n",
    "    # display(df_data.head(5))\n",
    "    display(df_data.shape)"
   ]
  },
  {
   "cell_type": "code",
   "execution_count": null,
   "id": "2b5a507e",
   "metadata": {},
   "outputs": [],
   "source": []
  },
  {
   "cell_type": "code",
   "execution_count": null,
   "id": "f77ba82c",
   "metadata": {},
   "outputs": [],
   "source": []
  }
 ],
 "metadata": {
  "kernelspec": {
   "display_name": "Python (saturdays_env)",
   "language": "python",
   "name": "saturdays_env"
  },
  "language_info": {
   "codemirror_mode": {
    "name": "ipython",
    "version": 3
   },
   "file_extension": ".py",
   "mimetype": "text/x-python",
   "name": "python",
   "nbconvert_exporter": "python",
   "pygments_lexer": "ipython3",
   "version": "3.8.3"
  }
 },
 "nbformat": 4,
 "nbformat_minor": 5
}
